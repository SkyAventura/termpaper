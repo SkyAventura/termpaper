{
 "cells": [
  {
   "cell_type": "code",
   "execution_count": 4,
   "metadata": {
    "collapsed": true,
    "deletable": true,
    "editable": true
   },
   "outputs": [],
   "source": [
    "import numpy as np\n",
    "import pandas as pd\n",
    "import sys\n",
    "import numpy\n",
    "from collections import defaultdict\n",
    "import scipy.sparse as sp\n",
    "from scipy.sparse.linalg import svds\n",
    "from sklearn.decomposition import NMF"
   ]
  },
  {
   "cell_type": "code",
   "execution_count": 2,
   "metadata": {
    "collapsed": false,
    "deletable": true,
    "editable": true
   },
   "outputs": [
    {
     "name": "stdout",
     "output_type": "stream",
     "text": [
      "Number of users = 943 | Number of movies = 1682\n"
     ]
    }
   ],
   "source": [
    "header = ['user_id', 'item_id', 'rating', 'timestamp']\n",
    "df = pd.read_csv('u.data', sep='\\t', names=header)\n",
    "n_users = df.user_id.unique().shape[0]\n",
    "n_items = df.item_id.unique().shape[0]\n",
    "print ('Number of users = ' + str(n_users) + ' | Number of movies = ' + str(n_items))"
   ]
  },
  {
   "cell_type": "code",
   "execution_count": 3,
   "metadata": {
    "collapsed": false,
    "deletable": true,
    "editable": true
   },
   "outputs": [
    {
     "name": "stderr",
     "output_type": "stream",
     "text": [
      "C:\\Users\\user\\Anaconda3\\lib\\site-packages\\sklearn\\cross_validation.py:44: DeprecationWarning: This module was deprecated in version 0.18 in favor of the model_selection module into which all the refactored classes and functions are moved. Also note that the interface of the new CV iterators are different from that of this module. This module will be removed in 0.20.\n",
      "  \"This module will be removed in 0.20.\", DeprecationWarning)\n"
     ]
    }
   ],
   "source": [
    "from sklearn import cross_validation as cv\n",
    "train_data, test_data = cv.train_test_split(df, test_size=0.25)\n",
    "train_data_matrix = np.zeros((n_users, n_items))\n",
    "for line in train_data.itertuples():\n",
    "    train_data_matrix[line[1]-1, line[2]-1] = 1\n",
    "\n",
    "test_data_matrix = np.zeros((n_users, n_items))\n",
    "for line in test_data.itertuples():\n",
    "    test_data_matrix[line[1]-1, line[2]-1] = 1"
   ]
  },
  {
   "cell_type": "code",
   "execution_count": 8,
   "metadata": {
    "collapsed": true,
    "deletable": true,
    "editable": true
   },
   "outputs": [],
   "source": [
    "def nmf_k(k):\n",
    "#get SVD components from train matrix. Choose k.\n",
    "    model = NMF(n_components=k, init='random', random_state=0)\n",
    "    w = model.fit_transform(train_data_matrix)\n",
    "    h=model.components_\n",
    "    return w,h"
   ]
  },
  {
   "cell_type": "code",
   "execution_count": 21,
   "metadata": {
    "collapsed": true,
    "deletable": true,
    "editable": true
   },
   "outputs": [],
   "source": [
    "    def auc(w,h, test_data, train_data):\n",
    "        \"\"\"\n",
    "          Computes the Area Under Curve (AUC) on `test_data`.\n",
    "          `test_data` is an array of (user_index, item_index) tuples.\n",
    "          During this computation we ignore users and items\n",
    "          that didn't appear in the training data, to allow\n",
    "          for non-overlapping training and testing sets.\n",
    "        \"\"\"\n",
    "        test_dict, test_users, test_items = _data_to_dict(test_data)\n",
    "        _train_dict, _train_users, _train_items = _data_to_dict(train_data)\n",
    "        auc_values = []\n",
    "        z = 0\n",
    "        for user in test_dict.keys():\n",
    "            if user in _train_users:\n",
    "                auc_for_user = 0.0\n",
    "                n = 0\n",
    "                predictions = predict_for_user(w,h,user-1)\n",
    "                for pos_item in test_dict[user]:\n",
    "                    if pos_item in _train_items:\n",
    "                        for neg_item in _train_items:\n",
    "                            if neg_item not in test_dict[user] and neg_item not in _train_dict[user]:\n",
    "                                n += 1\n",
    "                                #print(user)\n",
    "                                if predictions[pos_item-1] > predictions[neg_item-1]:\n",
    "                                    auc_for_user += 1\n",
    "                if n > 0:\n",
    "                    auc_for_user /= n\n",
    "                    auc_values.append(auc_for_user)\n",
    "                z += 1\n",
    "                if z % 100 == 0 and len(auc_values) > 0:\n",
    "                    sys.stderr.write(\"\\rCurrent AUC mean (%s samples): %0.5f\" % (str(z), numpy.mean(auc_values)))\n",
    "                    sys.stderr.flush()\n",
    "        sys.stderr.write(\"\\n\")\n",
    "        sys.stderr.flush()\n",
    "        return numpy.mean(auc_values)"
   ]
  },
  {
   "cell_type": "code",
   "execution_count": 22,
   "metadata": {
    "collapsed": true,
    "deletable": true,
    "editable": true
   },
   "outputs": [],
   "source": [
    "def predict_for_user(w,h, n):\n",
    "    return np.dot(w[n], h)\n",
    "    #return np.dot(np.dot(u[n], s_diag_matrix), vt)"
   ]
  },
  {
   "cell_type": "code",
   "execution_count": 24,
   "metadata": {
    "collapsed": true,
    "deletable": true,
    "editable": true
   },
   "outputs": [],
   "source": [
    "    def _data_to_dict(data):\n",
    "        data_dict = defaultdict(list)\n",
    "        items = set()\n",
    "        for user in data.iterrows():\n",
    "            data_dict[int(user[1][0])].append(int(user[1][1]))\n",
    "            items.add(int(user[1][1]))\n",
    "        return data_dict, set(data_dict.keys()), items"
   ]
  },
  {
   "cell_type": "code",
   "execution_count": 25,
   "metadata": {
    "collapsed": false,
    "deletable": true,
    "editable": true
   },
   "outputs": [
    {
     "name": "stderr",
     "output_type": "stream",
     "text": [
      "Current AUC mean (900 samples): 0.91745\n"
     ]
    }
   ],
   "source": [
    "aucs=[]\n",
    "w5,h5=nmf_k(5)\n",
    "aucs.append(auc(w5,h5,test_data, train_data))"
   ]
  },
  {
   "cell_type": "code",
   "execution_count": 26,
   "metadata": {
    "collapsed": false,
    "deletable": true,
    "editable": true
   },
   "outputs": [
    {
     "name": "stderr",
     "output_type": "stream",
     "text": [
      "Current AUC mean (900 samples): 0.92319\n"
     ]
    }
   ],
   "source": [
    "w10,h10=nmf_k(10)\n",
    "aucs.append(auc(w10,h10,test_data, train_data))"
   ]
  },
  {
   "cell_type": "code",
   "execution_count": 27,
   "metadata": {
    "collapsed": false,
    "deletable": true,
    "editable": true
   },
   "outputs": [
    {
     "name": "stderr",
     "output_type": "stream",
     "text": [
      "Current AUC mean (900 samples): 0.92638\n"
     ]
    }
   ],
   "source": [
    "w20,h20=nmf_k(20)\n",
    "aucs.append(auc(w20,h20,test_data, train_data))"
   ]
  },
  {
   "cell_type": "code",
   "execution_count": 28,
   "metadata": {
    "collapsed": false,
    "deletable": true,
    "editable": true
   },
   "outputs": [
    {
     "name": "stderr",
     "output_type": "stream",
     "text": [
      "Current AUC mean (900 samples): 0.91775\n"
     ]
    }
   ],
   "source": [
    "w30,h30=nmf_k(30)\n",
    "aucs.append(auc(w30,h30,test_data, train_data))"
   ]
  },
  {
   "cell_type": "code",
   "execution_count": 29,
   "metadata": {
    "collapsed": false,
    "deletable": true,
    "editable": true
   },
   "outputs": [
    {
     "data": {
      "text/plain": [
       "[0.91787694144686927,\n",
       " 0.92361092400181044,\n",
       " 0.92691969295417398,\n",
       " 0.91842521899305052]"
      ]
     },
     "execution_count": 29,
     "metadata": {},
     "output_type": "execute_result"
    }
   ],
   "source": [
    "aucs"
   ]
  },
  {
   "cell_type": "code",
   "execution_count": 30,
   "metadata": {
    "collapsed": false,
    "deletable": true,
    "editable": true
   },
   "outputs": [
    {
     "name": "stderr",
     "output_type": "stream",
     "text": [
      "Current AUC mean (900 samples): 0.90118\n"
     ]
    }
   ],
   "source": [
    "w50,h50=nmf_k(50)\n",
    "aucs.append(auc(w50,h50,test_data, train_data))"
   ]
  },
  {
   "cell_type": "code",
   "execution_count": 31,
   "metadata": {
    "collapsed": false,
    "deletable": true,
    "editable": true
   },
   "outputs": [
    {
     "name": "stderr",
     "output_type": "stream",
     "text": [
      "Current AUC mean (900 samples): 0.86904\n"
     ]
    }
   ],
   "source": [
    "w100,h100=nmf_k(100)\n",
    "aucs.append(auc(w100,h100,test_data, train_data))"
   ]
  },
  {
   "cell_type": "code",
   "execution_count": 32,
   "metadata": {
    "collapsed": false,
    "deletable": true,
    "editable": true
   },
   "outputs": [
    {
     "data": {
      "text/plain": [
       "[0.91787694144686927,\n",
       " 0.92361092400181044,\n",
       " 0.92691969295417398,\n",
       " 0.91842521899305052,\n",
       " 0.90178557741196819,\n",
       " 0.87008136205324826]"
      ]
     },
     "execution_count": 32,
     "metadata": {},
     "output_type": "execute_result"
    }
   ],
   "source": [
    "aucs"
   ]
  },
  {
   "cell_type": "code",
   "execution_count": null,
   "metadata": {
    "collapsed": true,
    "deletable": true,
    "editable": true
   },
   "outputs": [],
   "source": []
  }
 ],
 "metadata": {
  "kernelspec": {
   "display_name": "Python 3",
   "language": "python",
   "name": "python3"
  },
  "language_info": {
   "codemirror_mode": {
    "name": "ipython",
    "version": 3
   },
   "file_extension": ".py",
   "mimetype": "text/x-python",
   "name": "python",
   "nbconvert_exporter": "python",
   "pygments_lexer": "ipython3",
   "version": "3.5.1"
  }
 },
 "nbformat": 4,
 "nbformat_minor": 0
}
