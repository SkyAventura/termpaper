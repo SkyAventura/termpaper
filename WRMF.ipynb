{
 "cells": [
  {
   "cell_type": "code",
   "execution_count": 26,
   "metadata": {
    "collapsed": false,
    "deletable": true,
    "editable": true
   },
   "outputs": [],
   "source": [
    "import numpy as np\n",
    "import pandas as pd\n",
    "import numpy as np\n",
    "import time\n",
    "import os\n",
    "import logging\n",
    "import implicit\n",
    "import scipy.sparse as sparse\n",
    "from sklearn.model_selection import train_test_split\n",
    "import itertools\n",
    "import sys\n",
    "import numpy\n",
    "from collections import defaultdict"
   ]
  },
  {
   "cell_type": "markdown",
   "metadata": {
    "deletable": true,
    "editable": true
   },
   "source": [
    "Train ratings"
   ]
  },
  {
   "cell_type": "code",
   "execution_count": 69,
   "metadata": {
    "collapsed": false,
    "deletable": true,
    "editable": true
   },
   "outputs": [],
   "source": [
    "ml=pd.read_csv('ratings.csv')"
   ]
  },
  {
   "cell_type": "code",
   "execution_count": 70,
   "metadata": {
    "collapsed": false,
    "deletable": true,
    "editable": true
   },
   "outputs": [],
   "source": [
    "df1 = ml[['userId', 'movieId', 'rating']]"
   ]
  },
  {
   "cell_type": "code",
   "execution_count": 71,
   "metadata": {
    "collapsed": false,
    "deletable": true,
    "editable": true
   },
   "outputs": [
    {
     "name": "stdout",
     "output_type": "stream",
     "text": [
      "Number of users: 671\n",
      "Number of movies: 9066\n",
      "Sparsity: 1.644%\n"
     ]
    }
   ],
   "source": [
    "datainfo(df1)"
   ]
  },
  {
   "cell_type": "code",
   "execution_count": 72,
   "metadata": {
    "collapsed": true,
    "deletable": true,
    "editable": true
   },
   "outputs": [],
   "source": [
    "mti, itm, uti, itu=mapping(df1)"
   ]
  },
  {
   "cell_type": "code",
   "execution_count": 73,
   "metadata": {
    "collapsed": true,
    "deletable": true,
    "editable": true
   },
   "outputs": [],
   "source": [
    "train, test = train_test_split(df1, test_size=0.15)"
   ]
  },
  {
   "cell_type": "code",
   "execution_count": 74,
   "metadata": {
    "collapsed": true,
    "deletable": true,
    "editable": true
   },
   "outputs": [],
   "source": [
    "train_unr= train[['userId', 'movieId']]\n",
    "test_unr=test[['userId', 'movieId']]"
   ]
  },
  {
   "cell_type": "code",
   "execution_count": 75,
   "metadata": {
    "collapsed": false,
    "deletable": true,
    "editable": true
   },
   "outputs": [],
   "source": [
    "df1_likes_train=sparse_create(train_unr, uti, mti)\n",
    "df1_likes_test=sparse_create(test_unr, uti, mti)"
   ]
  },
  {
   "cell_type": "code",
   "execution_count": 76,
   "metadata": {
    "collapsed": false,
    "deletable": true,
    "editable": true
   },
   "outputs": [],
   "source": [
    "m50=model_create(50, df1_likes_train)"
   ]
  },
  {
   "cell_type": "code",
   "execution_count": 77,
   "metadata": {
    "collapsed": false,
    "deletable": true,
    "editable": true
   },
   "outputs": [
    {
     "data": {
      "text/plain": [
       "[[590, 1.0045424749901464],\n",
       " [150, 1.0003054100023643],\n",
       " [457, 0.94442417344729523],\n",
       " [592, 0.89797411517029957],\n",
       " [296, 0.88495765871959942],\n",
       " [593, 0.87990962960546104],\n",
       " [356, 0.87779515110940565],\n",
       " [588, 0.87772027869250757],\n",
       " [480, 0.87673970631822085],\n",
       " [380, 0.83825472801022982]]"
      ]
     },
     "execution_count": 77,
     "metadata": {},
     "output_type": "execute_result"
    }
   ],
   "source": [
    "predict_for_user_top_n(m50, test, 1, 10, mti, itm)"
   ]
  },
  {
   "cell_type": "markdown",
   "metadata": {
    "deletable": true,
    "editable": true
   },
   "source": [
    "Train ua.base"
   ]
  },
  {
   "cell_type": "code",
   "execution_count": 2,
   "metadata": {
    "collapsed": true,
    "deletable": true,
    "editable": true
   },
   "outputs": [],
   "source": [
    "fg=pd.read_csv('ua.base', sep='\\t', names=['userId','movieId','rating','4'])\n",
    "fgt=pd.read_csv('ua.test', sep='\\t', names=['userId','movieId','rating','4'])"
   ]
  },
  {
   "cell_type": "code",
   "execution_count": 3,
   "metadata": {
    "collapsed": true,
    "deletable": true,
    "editable": true
   },
   "outputs": [],
   "source": [
    "df2 = fg[['userId', 'movieId', 'rating']]\n",
    "df2t = fgt[['userId', 'movieId', 'rating']]"
   ]
  },
  {
   "cell_type": "code",
   "execution_count": 20,
   "metadata": {
    "collapsed": false,
    "deletable": true,
    "editable": true
   },
   "outputs": [
    {
     "name": "stdout",
     "output_type": "stream",
     "text": [
      "Number of users: 943\n",
      "Number of movies: 1680\n",
      "Sparsity: 5.717%\n"
     ]
    }
   ],
   "source": [
    "datainfo(df2)"
   ]
  },
  {
   "cell_type": "code",
   "execution_count": 21,
   "metadata": {
    "collapsed": true,
    "deletable": true,
    "editable": true
   },
   "outputs": [],
   "source": [
    "mti, itm, uti, itu=mapping(pd.concat([df2, df2t]))"
   ]
  },
  {
   "cell_type": "code",
   "execution_count": 22,
   "metadata": {
    "collapsed": false,
    "deletable": true,
    "editable": true
   },
   "outputs": [],
   "source": [
    "df2_likes_train=sparse_create(df2, uti, mti)\n",
    "df2е_likes_test=sparse_create(df2t, uti, mti)"
   ]
  },
  {
   "cell_type": "code",
   "execution_count": 207,
   "metadata": {
    "collapsed": false,
    "deletable": true,
    "editable": true
   },
   "outputs": [],
   "source": [
    "m50=model_create(50, df2_likes_train)"
   ]
  },
  {
   "cell_type": "code",
   "execution_count": 23,
   "metadata": {
    "collapsed": true,
    "deletable": true,
    "editable": true
   },
   "outputs": [],
   "source": [
    "m5=model_create(5, df2_likes_train)\n",
    "m10=model_create(10, df2_likes_train)\n",
    "m20=model_create(20, df2_likes_train)\n",
    "m30=model_create(30, df2_likes_train)\n",
    "m50=model_create(50, df2_likes_train)\n",
    "m100=model_create(100, df2_likes_train)"
   ]
  },
  {
   "cell_type": "code",
   "execution_count": 27,
   "metadata": {
    "collapsed": false,
    "deletable": true,
    "editable": true
   },
   "outputs": [
    {
     "name": "stderr",
     "output_type": "stream",
     "text": [
      "Current AUC mean (900 samples): 0.92374\n",
      "Current AUC mean (900 samples): 0.93233\n",
      "Current AUC mean (900 samples): 0.92635\n",
      "Current AUC mean (900 samples): 0.91701\n",
      "Current AUC mean (900 samples): 0.89501\n",
      "Current AUC mean (900 samples): 0.84200\n"
     ]
    }
   ],
   "source": [
    "aucs=[]\n",
    "aucs.append(auc(m5, df2t, df2))\n",
    "aucs.append(auc(m10, df2t, df2))\n",
    "aucs.append(auc(m20, df2t, df2))\n",
    "aucs.append(auc(m30, df2t, df2))\n",
    "aucs.append(auc(m50, df2t, df2))\n",
    "aucs.append(auc(m100, df2t, df2))"
   ]
  },
  {
   "cell_type": "code",
   "execution_count": 28,
   "metadata": {
    "collapsed": true,
    "deletable": true,
    "editable": true
   },
   "outputs": [],
   "source": [
    "import matplotlib.pyplot as plt\n",
    "%matplotlib inline "
   ]
  },
  {
   "cell_type": "code",
   "execution_count": 30,
   "metadata": {
    "collapsed": false,
    "deletable": true,
    "editable": true
   },
   "outputs": [
    {
     "data": {
      "text/plain": [
       "[0.92360337727535047,\n",
       " 0.93221554725417932,\n",
       " 0.92635242836079357,\n",
       " 0.91698546452559015,\n",
       " 0.89524895547329864,\n",
       " 0.84208255613885707]"
      ]
     },
     "execution_count": 30,
     "metadata": {},
     "output_type": "execute_result"
    }
   ],
   "source": [
    "aucs"
   ]
  },
  {
   "cell_type": "code",
   "execution_count": 31,
   "metadata": {
    "collapsed": true,
    "deletable": true,
    "editable": true
   },
   "outputs": [],
   "source": [
    "aucs1=[0.92061229244928111,\n",
    " 0.92649796712607191,\n",
    " 0.916325895170786,\n",
    " 0.90238331530429772,\n",
    " 0.87456191479984624,\n",
    " 0.81609550841763046]"
   ]
  },
  {
   "cell_type": "code",
   "execution_count": null,
   "metadata": {
    "collapsed": true,
    "deletable": true,
    "editable": true
   },
   "outputs": [],
   "source": []
  },
  {
   "cell_type": "code",
   "execution_count": 32,
   "metadata": {
    "collapsed": false,
    "deletable": true,
    "editable": true
   },
   "outputs": [
    {
     "data": {
      "text/plain": [
       "[<matplotlib.lines.Line2D at 0x1f83f92e2b0>]"
      ]
     },
     "execution_count": 32,
     "metadata": {},
     "output_type": "execute_result"
    },
    {
     "data": {
      "image/png": "[encoded data removed]",
      "text/plain": [
       "<matplotlib.figure.Figure at 0x1f83f92e6d8>"
      ]
     },
     "metadata": {},
     "output_type": "display_data"
    }
   ],
   "source": [
    "plt.plot([5, 10, 20, 30, 50, 100], aucs)\n",
    "plt.plot([5, 10, 20, 30, 50, 100], aucs1)"
   ]
  },
  {
   "cell_type": "code",
   "execution_count": 24,
   "metadata": {
    "collapsed": false,
    "deletable": true,
    "editable": true
   },
   "outputs": [
    {
     "data": {
      "text/plain": [
       "[[50, 0.80186735935683751],\n",
       " [181, 0.71839248951077883],\n",
       " [1, 0.65670836904639096],\n",
       " [174, 0.57257258352204365],\n",
       " [82, 0.51450601158266562],\n",
       " [210, 0.49257613128265537],\n",
       " [121, 0.47921325868850184],\n",
       " [151, 0.46331422732617977],\n",
       " [71, 0.45767865175975586],\n",
       " [143, 0.45498391345982858]]"
      ]
     },
     "execution_count": 24,
     "metadata": {},
     "output_type": "execute_result"
    }
   ],
   "source": [
    "predict_for_user_top_n(m50, df2t, 19, 10, mti, itm)"
   ]
  },
  {
   "cell_type": "code",
   "execution_count": 129,
   "metadata": {
    "collapsed": false,
    "deletable": true,
    "editable": true
   },
   "outputs": [
    {
     "data": {
      "text/plain": [
       "9066"
      ]
     },
     "execution_count": 129,
     "metadata": {},
     "output_type": "execute_result"
    }
   ],
   "source": [
    "predict_for_user(m50, 0)"
   ]
  },
  {
   "cell_type": "markdown",
   "metadata": {
    "deletable": true,
    "editable": true
   },
   "source": [
    "Функции"
   ]
  },
  {
   "cell_type": "code",
   "execution_count": 5,
   "metadata": {
    "collapsed": false,
    "deletable": true,
    "editable": true
   },
   "outputs": [],
   "source": [
    "def datainfo(data):\n",
    "    n_users = data.userId.unique().shape[0]\n",
    "    n_items = data.movieId.unique().shape[0]\n",
    "\n",
    "    print('Number of users: {}'.format(n_users))\n",
    "    print('Number of movies: {}'.format(n_items))\n",
    "    print('Sparsity: {:4.3f}%'.format(float(data.shape[0]) / float(n_users*n_items) * 100))"
   ]
  },
  {
   "cell_type": "code",
   "execution_count": 6,
   "metadata": {
    "collapsed": false,
    "deletable": true,
    "editable": true
   },
   "outputs": [],
   "source": [
    "def mapping(df):\n",
    "    mid_to_idx = {}\n",
    "    idx_to_mid = {}\n",
    "    for (idx, mid) in enumerate(df.movieId.unique().tolist()):\n",
    "        mid_to_idx[mid] = idx\n",
    "        idx_to_mid[idx] = mid\n",
    "    \n",
    "    uid_to_idx = {}\n",
    "    idx_to_uid = {}\n",
    "    for (idx, uid) in enumerate(df.userId.unique().tolist()):\n",
    "        uid_to_idx[uid] = idx\n",
    "        idx_to_uid[idx] = uid\n",
    "        \n",
    "    return mid_to_idx, idx_to_mid, uid_to_idx, idx_to_uid"
   ]
  },
  {
   "cell_type": "code",
   "execution_count": 7,
   "metadata": {
    "collapsed": true,
    "deletable": true,
    "editable": true
   },
   "outputs": [],
   "source": [
    "def _map_ids(row, mapper):\n",
    "    return mapper[row]"
   ]
  },
  {
   "cell_type": "code",
   "execution_count": 8,
   "metadata": {
    "collapsed": false,
    "deletable": true,
    "editable": true
   },
   "outputs": [],
   "source": [
    "def sparse_create(df, uid_to_idx, mid_to_idx):\n",
    "    I = df.userId.apply(_map_ids, args=[uid_to_idx]).as_matrix()\n",
    "    J = df.movieId.apply(_map_ids, args=[mid_to_idx]).as_matrix()\n",
    "    V = np.ones(I.shape[0])\n",
    "    likes = sparse.coo_matrix((V, (I, J)), dtype=np.float64)\n",
    "    likes = likes.tocsr()\n",
    "    return likes"
   ]
  },
  {
   "cell_type": "code",
   "execution_count": 9,
   "metadata": {
    "collapsed": true,
    "deletable": true,
    "editable": true
   },
   "outputs": [],
   "source": [
    "def model_create(n, sdata):\n",
    "    model = implicit.als.AlternatingLeastSquares(factors=n)\n",
    "    model.fit(sdata.T)\n",
    "    return model"
   ]
  },
  {
   "cell_type": "code",
   "execution_count": 10,
   "metadata": {
    "collapsed": true,
    "deletable": true,
    "editable": true
   },
   "outputs": [],
   "source": [
    "def _data_convert(data):\n",
    "    mlp=data.pivot(index='userId', columns='movieId', values='rating')\n",
    "    mlp=mlp.replace([0.5, 1.0, 1.5, 2.0, 2.5, 3.0,3.5, 4.0, 4.5, 5.0], \n",
    "                     [1, 1, 1, 1, 1, 1, 1, 1, 1, 1])\n",
    "    mlp=mlp.fillna(0)\n",
    "    return mlp* mlpn.columns.values"
   ]
  },
  {
   "cell_type": "code",
   "execution_count": 11,
   "metadata": {
    "collapsed": false,
    "deletable": true,
    "editable": true
   },
   "outputs": [],
   "source": [
    "def _liked_convert(liked, mti):\n",
    "    ld=[]\n",
    "    for i in liked:\n",
    "        ld.append(mti[i])\n",
    "        \n",
    "    return ld"
   ]
  },
  {
   "cell_type": "code",
   "execution_count": 12,
   "metadata": {
    "collapsed": true,
    "deletable": true,
    "editable": true
   },
   "outputs": [],
   "source": [
    "def predict_for_user_top_n(models, ratings, k, n, mti, itm):\n",
    "    #scores=models.item_factors.dot(models.user_factors[k])\n",
    "    scores=models.user_factors[k].dot(models.item_factors.T)\n",
    "    #mlpn=_data_convert(ratings)\n",
    "    mr=ratings[ratings.userId==k+1]['movieId']\n",
    "    liked=list(set(mr))[0:len(set(mr))]\n",
    "    ld=_liked_convert(liked, mti)\n",
    "    count=n+len(ld)\n",
    "    if count<len(scores):\n",
    "        ids = np.argpartition(scores, -count)[-count:]\n",
    "        best = sorted(zip(ids,scores[ids]), key=lambda x:-x[1])\n",
    "    else:\n",
    "        best = sorted(enumerate(scores), key=lambda x:-x[1])\n",
    "    return list(itertools.islice(([itm[rec[0]], rec[1]] for rec in best if rec[0] not in ld), n))"
   ]
  },
  {
   "cell_type": "code",
   "execution_count": 13,
   "metadata": {
    "collapsed": true,
    "deletable": true,
    "editable": true
   },
   "outputs": [],
   "source": [
    "from sklearn.metrics import mean_squared_error\n",
    "def calculate_mse(model, ratings, user_index=None):\n",
    "    preds = predict_for_customers(model)\n",
    "    if user_index:\n",
    "        return mean_squared_error(ratings[user_index, :].toarray().ravel(),\n",
    "                                  preds[user_index, :].ravel())\n",
    "    \n",
    "    return mean_squared_error(ratings.toarray().ravel(),\n",
    "                              preds.ravel())"
   ]
  },
  {
   "cell_type": "code",
   "execution_count": 14,
   "metadata": {
    "collapsed": true,
    "deletable": true,
    "editable": true
   },
   "outputs": [],
   "source": [
    "def precision_at_k(model, ratings, k=5, user_index=None):\n",
    "    if not user_index:\n",
    "        user_index = range(ratings.shape[0])\n",
    "    ratings = ratings.tocsr()\n",
    "    precisions = []\n",
    "    recalls=[]\n",
    "    # Note: line below may become infeasible for large datasets.\n",
    "    predictions = predict_for_customers(model)\n",
    "    for user in user_index:\n",
    "        # In case of large dataset, compute predictions row-by-row like below\n",
    "        # predictions = np.array([model.predict(row, i) for i in xrange(ratings.shape[1])])\n",
    "        top_k = np.argsort(-predictions[user, :])[:k]\n",
    "        #print(top_k)\n",
    "        labels = ratings.getrow(user).indices\n",
    "        precision = float(len(set(top_k) & set(labels))) / float(k)\n",
    "        precisions.append(precision)\n",
    "        if len(labels) >0:\n",
    "            recall = float(len(set(top_k) & set(labels)))/float(len(labels))\n",
    "            recalls.append(recall)\n",
    "    return np.mean(precisions), np.mean(recalls)   "
   ]
  },
  {
   "cell_type": "code",
   "execution_count": 15,
   "metadata": {
    "collapsed": true,
    "deletable": true,
    "editable": true
   },
   "outputs": [],
   "source": [
    "    def predict_for_customers(model):\n",
    "        \"\"\"Recommend products for all customers\"\"\"\n",
    "        return model.user_factors.dot(model.item_factors.T)\n",
    "        #return self.user_vectors.dot(self.item_vectors.T)"
   ]
  },
  {
   "cell_type": "code",
   "execution_count": 16,
   "metadata": {
    "collapsed": true,
    "deletable": true,
    "editable": true
   },
   "outputs": [],
   "source": [
    "def predict_for_user(model, n):\n",
    "    return model.item_factors.dot(model.user_factors[n])"
   ]
  },
  {
   "cell_type": "code",
   "execution_count": 17,
   "metadata": {
    "collapsed": true,
    "deletable": true,
    "editable": true
   },
   "outputs": [],
   "source": [
    "    def _data_to_dict(data):\n",
    "        data_dict = defaultdict(list)\n",
    "        items = set()\n",
    "        for user in data.iterrows():\n",
    "            data_dict[uti[int(user[1][0])]].append(mti[int(user[1][1])])\n",
    "            items.add(mti[int(user[1][1])])\n",
    "        return data_dict, set(data_dict.keys()), items"
   ]
  },
  {
   "cell_type": "code",
   "execution_count": 18,
   "metadata": {
    "collapsed": true,
    "deletable": true,
    "editable": true
   },
   "outputs": [],
   "source": [
    "import sys\n",
    "import numpy"
   ]
  },
  {
   "cell_type": "code",
   "execution_count": 19,
   "metadata": {
    "collapsed": true,
    "deletable": true,
    "editable": true
   },
   "outputs": [],
   "source": [
    "    def auc(model, test_data, train_data):\n",
    "        \"\"\"\n",
    "          Computes the Area Under Curve (AUC) on `test_data`.\n",
    "          `test_data` is an array of (user_index, item_index) tuples.\n",
    "          During this computation we ignore users and items\n",
    "          that didn't appear in the training data, to allow\n",
    "          for non-overlapping training and testing sets.\n",
    "        \"\"\"\n",
    "        test_dict, test_users, test_items = _data_to_dict(test_data)\n",
    "        _train_dict, _train_users, _train_items = _data_to_dict(train_data)\n",
    "        auc_values = []\n",
    "        z = 0\n",
    "        for user in test_dict.keys():\n",
    "            if user in _train_users:\n",
    "                auc_for_user = 0.0\n",
    "                n = 0\n",
    "                predictions = predict_for_user(model, user)\n",
    "                for pos_item in test_dict[user]:\n",
    "                    if pos_item in _train_items:\n",
    "                        for neg_item in _train_items:\n",
    "                            if neg_item not in test_dict[user] and neg_item not in _train_dict[user]:\n",
    "                                n += 1\n",
    "                                if predictions[pos_item] > predictions[neg_item]:\n",
    "                                    auc_for_user += 1\n",
    "                if n > 0:\n",
    "                    auc_for_user /= n\n",
    "                    auc_values.append(auc_for_user)\n",
    "                z += 1\n",
    "                if z % 100 == 0 and len(auc_values) > 0:\n",
    "                    sys.stderr.write(\"\\rCurrent AUC mean (%s samples): %0.5f\" % (str(z), numpy.mean(auc_values)))\n",
    "                    sys.stderr.flush()\n",
    "        sys.stderr.write(\"\\n\")\n",
    "        sys.stderr.flush()\n",
    "        return numpy.mean(auc_values)"
   ]
  },
  {
   "cell_type": "code",
   "execution_count": 221,
   "metadata": {
    "collapsed": false,
    "deletable": true,
    "editable": true
   },
   "outputs": [
    {
     "name": "stderr",
     "output_type": "stream",
     "text": [
      "Current AUC mean (900 samples): 0.89592\n"
     ]
    },
    {
     "data": {
      "text/plain": [
       "0.89607961176412776"
      ]
     },
     "execution_count": 221,
     "metadata": {},
     "output_type": "execute_result"
    }
   ],
   "source": [
    "auc(m50, df2t, df2)"
   ]
  },
  {
   "cell_type": "code",
   "execution_count": 65,
   "metadata": {
    "collapsed": false,
    "deletable": true,
    "editable": true
   },
   "outputs": [],
   "source": [
    "    mr=df2[df2.userId==1]['movieId']\n",
    "    liked=list(set(mr))[1:len(set(mr))]"
   ]
  },
  {
   "cell_type": "code",
   "execution_count": 45,
   "metadata": {
    "collapsed": false,
    "deletable": true,
    "editable": true
   },
   "outputs": [],
   "source": [
    "ld=_liked_convert(liked, mti)"
   ]
  },
  {
   "cell_type": "code",
   "execution_count": 61,
   "metadata": {
    "collapsed": false,
    "deletable": true,
    "editable": true
   },
   "outputs": [
    {
     "data": {
      "text/plain": [
       "[(0, 1.2863270298572302),\n",
       " (558, 0.80442894470225845),\n",
       " (744, 0.79908298476487249),\n",
       " (375, 0.79238873227107498),\n",
       " (430, 0.74880115115504786),\n",
       " (282, 0.74748697008040688),\n",
       " (446, 0.67590303759131498),\n",
       " (270, 0.67422545820924207),\n",
       " (444, 0.67224585810618009),\n",
       " (486, 0.6681818361256523)]"
      ]
     },
     "execution_count": 61,
     "metadata": {},
     "output_type": "execute_result"
    }
   ],
   "source": [
    "    k=0\n",
    "    scores=m50.item_factors.dot(m50.user_factors[k])\n",
    "    #mlpn=_data_convert(ratings)\n",
    "    mr=df2[df2.userId==k+1]['movieId']\n",
    "    liked=list(set(mr))[1:len(set(mr))]\n",
    "    ld=_liked_convert(liked, mti)\n",
    "    count=10+len(ld)\n",
    "    if count<len(scores):\n",
    "        ids = np.argpartition(scores, -count)[-count:]\n",
    "        best = sorted(zip(ids,scores[ids]), key=lambda x:-x[1])\n",
    "    else:\n",
    "        best = sorted(enumerate(scores), key=lambda x:-x[1])\n",
    "    list(itertools.islice((rec for rec in best if rec[0] not in ld), 10))"
   ]
  },
  {
   "cell_type": "code",
   "execution_count": null,
   "metadata": {
    "collapsed": true,
    "deletable": true,
    "editable": true
   },
   "outputs": [],
   "source": []
  }
 ],
 "metadata": {
  "kernelspec": {
   "display_name": "Python 3",
   "language": "python",
   "name": "python3"
  },
  "language_info": {
   "codemirror_mode": {
    "name": "ipython",
    "version": 3
   },
   "file_extension": ".py",
   "mimetype": "text/x-python",
   "name": "python",
   "nbconvert_exporter": "python",
   "pygments_lexer": "ipython3",
   "version": "3.5.1"
  }
 },
 "nbformat": 4,
 "nbformat_minor": 0
}
